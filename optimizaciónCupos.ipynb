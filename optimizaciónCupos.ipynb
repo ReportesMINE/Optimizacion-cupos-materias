{
 "cells": [
  {
   "cell_type": "code",
   "execution_count": 1,
   "metadata": {},
   "outputs": [],
   "source": [
    "import pandas as pd\n",
    "import numpy as np\n",
    "import warnings\n",
    "import math\n",
    "import sys\n",
    "import os"
   ]
  },
  {
   "cell_type": "code",
   "execution_count": 2,
   "metadata": {},
   "outputs": [],
   "source": [
    "# Leer los datos de los archivos\n",
    "historia = pd.read_excel('./data/HistoriaAcademicaListasClase.xlsx')\n",
    "historia20242 = pd.read_excel('./data/Información detalladaHistoriaAcademica202420.xlsx')\n",
    "estudiantes = pd.read_excel('./data/Información detalladaTodosLosEstudiantes.xlsx')"
   ]
  },
  {
   "cell_type": "code",
   "execution_count": 3,
   "metadata": {},
   "outputs": [],
   "source": [
    "# Eliminar las ultimas 2 filas de los archivos porque solo tienen la información de los filtros aplicados\n",
    "historia = historia.drop(historia.tail(2).index)\n",
    "estudiantes = estudiantes.drop(estudiantes.tail(2).index)\n",
    "historia20242 = historia20242.drop(historia20242.tail(2).index)"
   ]
  },
  {
   "cell_type": "code",
   "execution_count": 4,
   "metadata": {},
   "outputs": [],
   "source": [
    "historia = pd.concat([historia, historia20242], ignore_index=True)"
   ]
  },
  {
   "cell_type": "code",
   "execution_count": 5,
   "metadata": {},
   "outputs": [
    {
     "data": {
      "text/plain": [
       "86"
      ]
     },
     "execution_count": 5,
     "metadata": {},
     "output_type": "execute_result"
    }
   ],
   "source": [
    "estudiantes['Código est'].unique().size"
   ]
  },
  {
   "cell_type": "code",
   "execution_count": 6,
   "metadata": {},
   "outputs": [
    {
     "data": {
      "text/plain": [
       "Index(['Periodo', 'Nivel materia', 'Facultad curso', 'Departamento curso',\n",
       "       'Campus', 'Parte pdo', 'Materia/examen', 'Secc', 'NRC', 'Créditos',\n",
       "       'Nombre largo curso o examen', 'Atributos curso', 'Atributos sección',\n",
       "       'Código est', 'Nombres', 'Apellidos', 'Estatus curso', 'Nota parcial',\n",
       "       'Nota final', 'Fecha presentación examen', 'Modo de calificación',\n",
       "       'Nivel de historia académica', 'Pago', 'Programa principal',\n",
       "       'Nivel programa principal', 'Facultad programa principal',\n",
       "       'Departamento programa principal', 'Segundo programa',\n",
       "       'Nivel segundo programa', 'Facultad segundo programa',\n",
       "       'Departamento segundo programa', 'Tercer programa',\n",
       "       'Nivel tercer programa', 'Facultad tercer programa',\n",
       "       'Departamento tercer programa', 'Programa principal actual',\n",
       "       'Segundo programa actual', 'Tercer programa actual',\n",
       "       'Correo Uniandes estudiante', 'Correo personal estudiante',\n",
       "       'Profesor(es)', 'Login profesor principal',\n",
       "       'Tipo identificación profesor principal',\n",
       "       'Num documento profesor principal', 'Clave ERP'],\n",
       "      dtype='object')"
      ]
     },
     "execution_count": 6,
     "metadata": {},
     "output_type": "execute_result"
    }
   ],
   "source": [
    "historia.columns"
   ]
  },
  {
   "cell_type": "code",
   "execution_count": 7,
   "metadata": {},
   "outputs": [
    {
     "data": {
      "text/plain": [
       "Index(['Periodo', 'Código est', 'Nombres', 'Apellidos', 'Tipo de documento',\n",
       "       'Num documento', 'Sexo', 'Nacionalidad', 'Ciudad de nacimiento',\n",
       "       'Fecha de nacimiento', 'Fallecido', 'Fecha de fallecimiento', 'Estrato',\n",
       "       'Dirección residencia', 'Ciudad residencia', 'Departamento residencia',\n",
       "       'País residencia', 'Teléfono residencia', 'Celular',\n",
       "       'Programa principal', 'Periodo de catálogo programa principal',\n",
       "       'Nivel programa principal', 'Facultad programa principal',\n",
       "       'Departamento programa principal', 'Segundo programa',\n",
       "       'Periodo de catálogo segundo programa', 'Nivel segundo programa',\n",
       "       'Facultad segundo programa', 'Departamento segundo programa',\n",
       "       'Tercer programa', 'Periodo de catálogo tercer programa',\n",
       "       'Nivel tercer programa', 'Facultad tercer programa',\n",
       "       'Departamento tercer programa', 'Énfasis', 'Opciones inscritas',\n",
       "       'Primer programa actual', 'Segundo programa actual',\n",
       "       'Tercer programa actual', 'Tipo admisión', 'Tipo alumno', 'Pago',\n",
       "       'Apoyos financieros', 'Estado académico inicio', 'Estado académico fin',\n",
       "       'Sobrepaso académico', 'Periodo sobrepaso académico',\n",
       "       'Estado inscripción', 'Puede extracreditarse', 'Créditos inscritos',\n",
       "       'Núm cursos inscritos', 'Créditos retirados', 'Núm cursos retirados',\n",
       "       'Nivel historia académica', 'Promedio móvil',\n",
       "       'Créditos pdo intentado institucional',\n",
       "       'Créditos pdo aprobado institucional', 'Créditos pdo pga institucional',\n",
       "       'Promedio pdo institucional', 'Créditos pdo aprobado transferencias',\n",
       "       'Créditos pdo pga transferencias', 'Promedio pdo transferencias',\n",
       "       'Créditos pdo global', 'Promedio pdo global (PROM. SEM/PDO)',\n",
       "       'Créditos acum aprobado transferencia', 'Promedio acum transferencia',\n",
       "       'Créditos intentado acum global', 'Créditos aprobado acum global',\n",
       "       'Créditos acum pga global', 'Promedio institucional acum',\n",
       "       'Promedio global acum (PGA)', 'SSC', 'Puntos de calidad pdo',\n",
       "       'Puntos de calidad acumulado', 'Candidato a grado', 'Correo Uniandes',\n",
       "       'Correo personal'],\n",
       "      dtype='object')"
      ]
     },
     "execution_count": 7,
     "metadata": {},
     "output_type": "execute_result"
    }
   ],
   "source": [
    "estudiantes.columns"
   ]
  },
  {
   "cell_type": "code",
   "execution_count": 8,
   "metadata": {},
   "outputs": [],
   "source": [
    "# Unir los dos dataframes de manera que se filtre el dataframe de historia con los estudiantes que estan en el dataframe de estudiantes\n",
    "df = pd.merge(estudiantes, historia, on='Código est', how='inner')"
   ]
  },
  {
   "cell_type": "code",
   "execution_count": 9,
   "metadata": {},
   "outputs": [],
   "source": [
    "# Filtrar por estudiantes de Programa principal actual MAESTR INGENIER.DE INFORMACION\t\n",
    "df = df[(df['Programa principal_x'] == 'MAESTR INGENIER.DE INFORMACION')]\n",
    "\n",
    "# Filtrar por Nombre largo curso o examen diferente de 'TESIS 2' 'TESIS 1'\n",
    "df = df[(df['Nombre largo curso o examen'] != 'TESIS 2') & (df['Nombre largo curso o examen'] != 'TESIS 1') & (df['Nombre largo curso o examen'] != 'PROYECTO FINAL')]\n",
    "\n",
    "# Convertir las notas a float\n",
    "df['Nota final'] = pd.to_numeric(df['Nota final'], errors='coerce')\n",
    "\n",
    "# Filtrar por notas mayores a 3.5 si el estudiante era de pregrado\n",
    "df = df[~((df['Nota final'] < 3.5) & (df['Programa principal_y'].isin(['MAESTR INGENIER.DE INFORMACION', 'EXTENSION', 'EXTENSION UNIVERSITARIA']) == False))]\n"
   ]
  },
  {
   "cell_type": "code",
   "execution_count": 11,
   "metadata": {},
   "outputs": [],
   "source": [
    "# Eliminar las columnas que no se van a utilizar\n",
    "daf = df.drop(['Periodo_x', 'Nombres_x', 'Apellidos_x',\n",
    "       'Tipo de documento', 'Num documento', 'Sexo', 'Nacionalidad',\n",
    "       'Ciudad de nacimiento', 'Fecha de nacimiento',\n",
    "       'Programa principal actual', 'Segundo programa actual_y',\n",
    "       'Tercer programa actual_y', 'Correo Uniandes estudiante',\n",
    "       'Correo personal estudiante', 'Profesor(es)',\n",
    "       'Login profesor principal', 'Tipo identificación profesor principal',\n",
    "       'Num documento profesor principal', 'Clave ERP',\n",
    "       'Fallecido', 'Fecha de fallecimiento', 'Estrato',\n",
    "       'Dirección residencia', 'Ciudad residencia', 'Departamento residencia',\n",
    "       'País residencia', 'Teléfono residencia', 'Celular',\n",
    "       'Facultad programa principal_y', 'Departamento programa principal_y',\n",
    "       'Segundo programa_y', 'Nivel segundo programa_y',\n",
    "       'Facultad segundo programa_y', 'Departamento segundo programa_y',\n",
    "       'Tercer programa_y', 'Nivel tercer programa_y',\n",
    "       'Facultad tercer programa_y', 'Departamento tercer programa_y', 'Programa principal_x',\n",
    "       'Periodo de catálogo programa principal', 'Nivel programa principal_x',\n",
    "       'Facultad programa principal_x', 'Departamento programa principal_x',\n",
    "       'Segundo programa_x', 'Periodo de catálogo segundo programa',\n",
    "       'Nivel segundo programa_x', 'Facultad segundo programa_x',\n",
    "       'Departamento segundo programa_x', 'Tercer programa_x',\n",
    "       'Periodo de catálogo tercer programa', 'Nivel tercer programa_x',\n",
    "       'Facultad tercer programa_x', 'Departamento tercer programa_x',\n",
    "       'Énfasis', 'Opciones inscritas', 'Primer programa actual',\n",
    "       'Segundo programa actual_x', 'Tercer programa actual_x',\n",
    "       'Tipo admisión', 'Tipo alumno', 'Pago_x', 'Apoyos financieros',\n",
    "       'Estado académico inicio', 'Estado académico fin',\n",
    "       'Sobrepaso académico', 'Periodo sobrepaso académico',\n",
    "       'Estado inscripción', 'Puede extracreditarse', 'Créditos inscritos',\n",
    "       'Núm cursos inscritos', 'Créditos retirados', 'Núm cursos retirados',\n",
    "       'Nivel historia académica', 'Promedio móvil',\n",
    "       'Créditos pdo intentado institucional',\n",
    "       'Créditos pdo aprobado institucional', 'Créditos pdo pga institucional',\n",
    "       'Promedio pdo institucional', 'Créditos pdo aprobado transferencias',\n",
    "       'Créditos pdo pga transferencias', 'Promedio pdo transferencias',\n",
    "       'Créditos pdo global', 'Promedio pdo global (PROM. SEM/PDO)',\n",
    "       'Créditos acum aprobado transferencia', 'Promedio acum transferencia',\n",
    "       'Créditos intentado acum global', 'Créditos aprobado acum global',\n",
    "       'Créditos acum pga global', 'Promedio institucional acum',\n",
    "       'Promedio global acum (PGA)', 'SSC', 'Puntos de calidad pdo',\n",
    "       'Puntos de calidad acumulado', 'Candidato a grado', 'Correo Uniandes',\n",
    "       'Correo personal', 'Nivel materia', 'Facultad curso',\n",
    "       'Departamento curso', 'Campus', 'Parte pdo', 'Nivel de historia académica', 'Pago_y',\n",
    "       'Programa principal_y', 'Nivel programa principal_y', 'Nombres_y', 'Apellidos_y'\n",
    "       ], axis=1, inplace=True)"
   ]
  },
  {
   "cell_type": "code",
   "execution_count": 12,
   "metadata": {},
   "outputs": [],
   "source": [
    "diccionario_validez_cursos = {\n",
    "    'Fundamentación': ['CIENCIA DE DATOS APLICADA', 'ANÁLISIS INFORM SOBRE BIG DATA', 'ADMIN. DEL CONOCIMIENTO'],\n",
    "    'Profundización' : ['SISTEMAS DE RECOMENDACIÓN','ANÁLISIS CON MACHINE LEARNING', 'ORG. CENTRADAS EN DATOS', 'ADMIN PROYECTOS DE INFORMACIÓN', 'INFORMACIÓN, SEGURIDAD Y PRIVA',\n",
    "    'ANÁLISIS CON DEEP LEARNING', 'MACHINE LEARNING FOR DECISION', 'MASTERING MACHINE LEARNING']\n",
    "}"
   ]
  },
  {
   "cell_type": "code",
   "execution_count": 13,
   "metadata": {},
   "outputs": [
    {
     "data": {
      "text/plain": [
       "array(['ANÁLISIS INFORM SOBRE BIG DATA', 'SISTEMAS DE RECOMENDACIÓN',\n",
       "       'CLASIFICAC.INGLES POST (MA,ES)', 'ESTRATEGIA Y LIDERAZGO DE DATO',\n",
       "       'ARQUITECTURA DE NEGOCIO Y TI', 'ANÁLISIS CON MACHINE LEARNING',\n",
       "       'ADMIN. DEL CONOCIMIENTO', 'ANÁLISIS CON DEEP LEARNING',\n",
       "       'ORG. CENTRADAS EN DATOS', 'TALLER LECTURA 1-POSTGRADO',\n",
       "       'TRANSFORMACIÓN DIGITAL', 'CIENCIA DE DATOS APLICADA',\n",
       "       'EMPRENDIMIENTO Y COMERCIO ELEC', 'ADMIN PROYECTOS DE INFORMACIÓN',\n",
       "       'INFORMACIÓN, SEGURIDAD Y PRIVA', 'TRANSFORM. DIGITAL DEL ESTADO',\n",
       "       'MACHINE LEARNING FOR DECISION', 'GOBIERNO PROCESOS NEGOCIO',\n",
       "       'VISUAL ANALYTICS', 'REINFORCEMENT LEARNING', 'SON Y CHACHACHÁ',\n",
       "       'GRUPO SALSA', 'MODELOS ESTADIST.LINEALES',\n",
       "       'FRISBEE ULTIMATE PRINCIPIANTES', 'SOLUCIONES DE DATOS EN LA NUBE',\n",
       "       'TALLER LECTURA 2 POSTGRADO', 'HABILIDADES GERENCIALES EN TI',\n",
       "       'OFIC.GERENCIA PROYECTOS (PMO)', 'BIG DATA MACHINE LEARNING ECON',\n",
       "       'COMP BIG DATA', 'REQUISITO INGLES POST (MA, ES)',\n",
       "       'REQ.ING.MA-GRADUADOS PR UANDES', 'SELECCION FUTSALA MASCULINO',\n",
       "       'TESIS DE GRADO 2', 'ATLETISMO', 'FLAG FOOTBALL MIXTO',\n",
       "       'FUTSALA MASCULINO', 'SELECCION TENIS DE MESA',\n",
       "       'TENIS DE CAMPO INTERMEDIOS', 'SELECCIÓN DEPORTIVA',\n",
       "       'TENIS DE CAMPO PRINCIPIANTES', 'GOLF', 'SQUASH PRINCIPIANTES',\n",
       "       'MASTERING MACHINE LEARNING', 'ARQUITECTURA DE SOFTWARE',\n",
       "       'MERCADEO ESTRATÉGICO', 'ARQUITECTURAS NUEVA GENERACIÓN',\n",
       "       'PROCESAMIENTO LENGUAJE NATURAL', 'FORMACIÓN DIRECTIVOS TI',\n",
       "       'ARCHITECTING FOR THE CLOUD', 'EXAMEN ALUM.PREGR. M-ISIS', 'YOGA',\n",
       "       'SALSA /BACHATA BASICA'], dtype=object)"
      ]
     },
     "execution_count": 13,
     "metadata": {},
     "output_type": "execute_result"
    }
   ],
   "source": [
    "# Ver los diferentes cursos en Nombre largo curso o examen\n",
    "df['Nombre largo curso o examen'].unique()"
   ]
  },
  {
   "cell_type": "markdown",
   "metadata": {},
   "source": [
    "Falta agregar restricciones para que se consideren los cambios en el plan de estudios."
   ]
  },
  {
   "cell_type": "code",
   "execution_count": 14,
   "metadata": {},
   "outputs": [],
   "source": [
    "# Agregar una columna de validez de los cursos\n",
    "df['Validez'] = df['Nombre largo curso o examen'].apply(lambda x: 'Fundamentación' if x in diccionario_validez_cursos['Fundamentación'] else 'Profundización' if x in diccionario_validez_cursos['Profundización'] else 'Otro')"
   ]
  },
  {
   "cell_type": "code",
   "execution_count": 15,
   "metadata": {},
   "outputs": [],
   "source": [
    "df.to_excel('./data/estudiantes_maestria.xlsx', index=False)"
   ]
  },
  {
   "cell_type": "code",
   "execution_count": 16,
   "metadata": {},
   "outputs": [],
   "source": [
    "# Crea un dataframe con la información de la cantidad de cursos de profundizacióm y fundamentación que ha visto cada estudiante\n",
    "df_estudiantes_validez = df.groupby(['Código est', 'Validez']).size().unstack().fillna(0)\n",
    "\n",
    "# Unir el dataframe de estudiante para inlcuir a los estudiantes nuevos\n",
    "df_validez = pd.merge(estudiantes['Código est'], df_estudiantes_validez, on='Código est', how='left')\n",
    "\n",
    "# Convertir codigo a string\n",
    "df_validez['Código est'] = df_validez['Código est'].astype(int)\n",
    "df_validez['Código est'] = df_validez['Código est'].astype(str)\n",
    "\n",
    "# Completar los valores nulos con 0\n",
    "df_validez = df_validez.fillna(0)"
   ]
  },
  {
   "cell_type": "code",
   "execution_count": 17,
   "metadata": {},
   "outputs": [],
   "source": [
    "# Convertir el DataFrame en un diccionario donde se agrupen solo los nombres de las materias que ha visto cada estudiante\n",
    "materias_vistas_dict = {}\n",
    "\n",
    "# Iterar sobre el DataFrame\n",
    "for i, row in df.iterrows():\n",
    "    estudiante = int(row['Código est'])  # Convertimos a int para las claves del diccionario\n",
    "    materia = row['Nombre largo curso o examen']\n",
    "    \n",
    "    # Inicializar el diccionario si el estudiante no está aún\n",
    "    if estudiante not in materias_vistas_dict:\n",
    "        materias_vistas_dict[estudiante] = []\n",
    "    \n",
    "    # Agregar la materia a la lista del estudiante\n",
    "    materias_vistas_dict[estudiante].append(materia)\n",
    "\n",
    "# Agregar la información de los estudiantes que no han visto materias\n",
    "\n",
    "\n",
    "for i, row in estudiantes.iterrows():\n",
    "    estudiante = int(row['Código est'])\n",
    "    \n",
    "    # Si el estudiante no está en el diccionario, agregarlo con una lista vacía\n",
    "    if estudiante not in materias_vistas_dict:\n",
    "        materias_vistas_dict[estudiante] = []  "
   ]
  },
  {
   "cell_type": "code",
   "execution_count": null,
   "metadata": {},
   "outputs": [],
   "source": [
    "# Agregar columna de llave estudiante 1, estudiante 2, etc\n",
    "df['Estudiante'] = 'Estudiante ' + df.index.astype(str)"
   ]
  },
  {
   "cell_type": "code",
   "execution_count": 21,
   "metadata": {},
   "outputs": [],
   "source": [
    "materias_vistas_validez = {}\n",
    "\n",
    "\n",
    "for i, row in df_validez.iterrows():\n",
    "    estudiante = int(row['Código est'])  # Convertimos a int para las claves del diccionario\n",
    "    materias_vistas_validez[estudiante] = {\n",
    "        'Fundamentación': int(row['Fundamentación']),\n",
    "        'Profundización': int(row['Profundización'])\n",
    "    }"
   ]
  },
  {
   "cell_type": "code",
   "execution_count": 22,
   "metadata": {},
   "outputs": [],
   "source": [
    "diccionario_validez_cursos = {\n",
    "    'Fundamentación': ['CIENCIA DE DATOS APLICADA', 'ANÁLISIS INFORM SOBRE BIG DATA', 'ADMIN. DEL CONOCIMIENTO', 'SOLUCIONES DE DATOS EN LA NUBE'],\n",
    "    'Profundización' : ['SISTEMAS DE RECOMENDACIÓN','ANÁLISIS CON MACHINE LEARNING', 'ORG. CENTRADAS EN DATOS', 'ADMIN PROYECTOS DE INFORMACIÓN', 'INFORMACIÓN, SEGURIDAD Y PRIVA',\n",
    "    'ANÁLISIS CON DEEP LEARNING', 'MACHINE LEARNING FOR DECISION', 'MASTERING MACHINE LEARNING']\n",
    "}"
   ]
  },
  {
   "cell_type": "code",
   "execution_count": 23,
   "metadata": {},
   "outputs": [],
   "source": [
    "materias_plan_sem1 = {\n",
    "    'Fundamentación': ['ORG. CENTRADAS EN DATOS', 'SOLUCIONES DE DATOS EN LA NUBE'],\n",
    "    'Profundización' : ['Business Analytics','ANÁLISIS CON MACHINE LEARNING', 'Automatización y orquestación', 'SISTEMAS DE RECOMENDACIÓN']\n",
    "}\n",
    "\n",
    "materias_plan_sem2 = {\n",
    "    'Fundamentación': ['CIENCIA DE DATOS APLICADA', 'EstrategiaYLiderazgoDatos'],\n",
    "    'Profundización' : ['ANÁLISIS CON DEEP LEARNING','SistemasIntensvosDatos', 'INFORMACIÓN, SEGURIDAD Y PRIVA', 'Modelado y diseño de datos']\n",
    "}"
   ]
  },
  {
   "cell_type": "code",
   "execution_count": null,
   "metadata": {},
   "outputs": [
    {
     "name": "stdout",
     "output_type": "stream",
     "text": [
      "Cupos ocupados por materia:\n",
      "SOLUCIONES DE DATOS EN LA NUBE: 20 cupos ocupados\n",
      "ORG. CENTRADAS EN DATOS: 14 cupos ocupados\n",
      "ANÁLISIS CON MACHINE LEARNING: 7 cupos ocupados\n",
      "SISTEMAS DE RECOMENDACIÓN: 15 cupos ocupados\n",
      "Business Analytics: 21 cupos ocupados\n",
      "Automatización y orquestación: 20 cupos ocupados\n"
     ]
    }
   ],
   "source": [
    "import pulp as pl\n",
    "import random as rd\n",
    "\n",
    "# Generar lista de estudiantes de 1 a 20\n",
    "estudiantesNuevos = list(range(1, 19))\n",
    "\n",
    "# Datos de entrada\n",
    "df_validez['Código est'] = df_validez['Código est'].astype(int)\n",
    "estudiantes = df_validez['Código est'].values \n",
    "estudiantes= estudiantes.tolist()\n",
    "estudiantes = estudiantes + estudiantesNuevos\n",
    "\n",
    "# Materias por semestre\n",
    "materias_plan_sem1 = {\n",
    "    'Fundamentación': ['SOLUCIONES DE DATOS EN LA NUBE', 'ORG. CENTRADAS EN DATOS'],\n",
    "    'Profundización': ['ANÁLISIS CON MACHINE LEARNING','SISTEMAS DE RECOMENDACIÓN', 'Business Analytics', 'Automatización y orquestación']\n",
    "}\n",
    "\n",
    "materias_plan_sem2 = {\n",
    "    'Fundamentación': ['CIENCIA DE DATOS APLICADA', 'EstrategiaYLiderazgoDatos'],\n",
    "    'Profundización': ['ANÁLISIS CON DEEP LEARNING', 'INFORMACIÓN, SEGURIDAD Y PRIVA', 'SistemasIntensvosDatos', 'Modelado y diseño de datos']\n",
    "}\n",
    "\n",
    "# Restricciones\n",
    "max_materias_fundamentacion = 3\n",
    "max_materias_profundizacion = 4\n",
    "max_cupos = 30\n",
    "\n",
    "# Matrices con las materias ya vistas y número de materias por tipo vistas por cada estudiante\n",
    "materias_vistas = materias_vistas_dict\n",
    "\n",
    "for n in range(1, 19):\n",
    "    if n not in materias_vistas:\n",
    "        materias_vistas[n] = []\n",
    "\n",
    "# Número de materias ya vistas por cada estudiante (fundamentación, profundización)\n",
    "materias_cursadas = materias_vistas_validez\n",
    "\n",
    "for n in range(1, 19):\n",
    "    if n not in materias_cursadas:\n",
    "        materias_cursadas[n] = {'Fundamentación': 0, 'Profundización': 0}\n",
    "\n",
    "# Función para obtener materias del semestre actual\n",
    "def obtener_materias_semestre(semestre):\n",
    "    if semestre == 1:\n",
    "        materias_profundizacion = materias_plan_sem1['Profundización']\n",
    "        materias_fundamentacion = materias_plan_sem1['Fundamentación']\n",
    "    else:\n",
    "        materias_profundizacion = materias_plan_sem2['Profundización']\n",
    "        materias_fundamentacion = materias_plan_sem2['Fundamentación']\n",
    "    \n",
    "    return materias_fundamentacion, materias_profundizacion\n",
    "\n",
    "# Selección del semestre actual (puedes cambiarlo entre 1 o 2)\n",
    "semestre_actual = 1\n",
    "\n",
    "# Obtener materias disponibles en el semestre actual\n",
    "materias_fundamentacion, materias_profundizacion = obtener_materias_semestre(semestre_actual)\n",
    "\n",
    "# Crear un problema de minimización\n",
    "problema = pl.LpProblem(\"Minimizar_cupos_materias\", pl.LpMinimize)\n",
    "\n",
    "# Variables de decisión: x_ij = 1 si el estudiante i se inscribe en la materia j, 0 en caso contrario\n",
    "x = pl.LpVariable.dicts(\"inscripcion\", (estudiantes, materias_fundamentacion + materias_profundizacion), 0, 1, pl.LpBinary)\n",
    "\n",
    "# Función objetivo: minimizar el número total de cupos\n",
    "problema += pl.lpSum(x[est][mat] for est in estudiantes for mat in materias_fundamentacion + materias_profundizacion)\n",
    "\n",
    "# Restricciones de capacidad de cupos (máximo 30 estudiantes por materia)\n",
    "for mat in materias_fundamentacion + materias_profundizacion:\n",
    "    problema += pl.lpSum(x[est][mat] for est in estudiantes) <= max_cupos\n",
    "\n",
    "# Restricción: cada estudiante debe inscribirse en exactamente 2 materias por semestre\n",
    "for est in estudiantes:\n",
    "    if rd.random() > 0.5:\n",
    "        problema += pl.lpSum(x[est][mat] for mat in materias_fundamentacion + materias_profundizacion) == 1\n",
    "    else:\n",
    "        problema += pl.lpSum(x[est][mat] for mat in materias_fundamentacion + materias_profundizacion) == 2\n",
    "\n",
    "# Restricción: los estudiantes no pueden inscribirse en materias que ya han cursado\n",
    "for est in estudiantes:\n",
    "    for mat in materias_vistas[est]:\n",
    "        if mat in materias_fundamentacion + materias_profundizacion:\n",
    "            problema += x[est][mat] == 0\n",
    "\n",
    "# Restricción: cada estudiante puede ver un máximo de 3 materias de fundamentación y 4 de profundización,\n",
    "# teniendo en cuenta cuántas ya ha cursado\n",
    "for est in estudiantes:\n",
    "    max_fundamentacion_restante = max_materias_fundamentacion - materias_cursadas[est]['Fundamentación']\n",
    "    max_profundizacion_restante = max_materias_profundizacion - materias_cursadas[est]['Profundización']\n",
    "    \n",
    "    # Asegurarse de que no excedan el número de materias que les faltan\n",
    "    problema += pl.lpSum(x[est][mat] for mat in materias_fundamentacion) <= max_fundamentacion_restante\n",
    "    problema += pl.lpSum(x[est][mat] for mat in materias_profundizacion) <= max_profundizacion_restante\n",
    "\n",
    "# Resolver el problema\n",
    "problema.solve()\n",
    "\n",
    "#Mostrar los resultados\n",
    "#for est in estudiantes:\n",
    "#    print(f\"Estudiante {est}:\")\n",
    "#    for mat in materias_fundamentacion + materias_profundizacion:\n",
    "#        if x[est][mat].value() == 1:\n",
    "#            print(f\"  Se inscribe en {mat}\")\n",
    "            \n",
    "\n",
    "# Diccionario para contar el número de cupos ocupados por materia\n",
    "cupos_por_materia = {mat: 0 for mat in materias_fundamentacion + materias_profundizacion}\n",
    "\n",
    "# Recorrer las variables de decisión para contar cuántos estudiantes se inscriben en cada materia\n",
    "for est in estudiantes:\n",
    "    for mat in materias_fundamentacion + materias_profundizacion:\n",
    "        if x[est][mat].value() == 1:  # Si el estudiante está inscrito en la materia\n",
    "            cupos_por_materia[mat] += 1\n",
    "\n",
    "# Mostrar el número de cupos ocupados por materia\n",
    "print(\"Cupos ocupados por materia:\")\n",
    "for mat, cupos in cupos_por_materia.items():\n",
    "    print(f\"{mat}: {cupos} cupos ocupados\")\n",
    "    \n",
    "\n",
    "\n"
   ]
  },
  {
   "cell_type": "code",
   "execution_count": 25,
   "metadata": {},
   "outputs": [
    {
     "name": "stdout",
     "output_type": "stream",
     "text": [
      "Cupos ocupados por tipo de materia:\n",
      "Fundamentación: 34 cupos ocupados\n",
      "Profundización: 63 cupos ocupados\n"
     ]
    }
   ],
   "source": [
    "cupos_por_tipo = {\n",
    "    'Fundamentación': 0,\n",
    "    'Profundización': 0\n",
    "}\n",
    "\n",
    "for est in estudiantes:\n",
    "    for mat in materias_fundamentacion:\n",
    "        if x[est][mat].value() == 1: \n",
    "            materias_vistas[est].append(mat)\n",
    "            materias_cursadas[est]['Fundamentación'] += 1\n",
    "            cupos_por_tipo['Fundamentación'] += 1\n",
    "            \n",
    "    for mat in materias_profundizacion:\n",
    "        if x[est][mat].value() == 1:  \n",
    "            materias_vistas[est].append(mat)\n",
    "            materias_cursadas[est]['Profundización'] += 1\n",
    "            cupos_por_tipo['Profundización'] += 1\n",
    "\n",
    "print(\"Cupos ocupados por tipo de materia:\")\n",
    "for tipo, cupos in cupos_por_tipo.items():\n",
    "    print(f\"{tipo}: {cupos} cupos ocupados\")"
   ]
  },
  {
   "cell_type": "code",
   "execution_count": 26,
   "metadata": {},
   "outputs": [
    {
     "name": "stdout",
     "output_type": "stream",
     "text": [
      "Cupos ocupados por materia:\n",
      "CIENCIA DE DATOS APLICADA: 0 cupos ocupados\n",
      "EstrategiaYLiderazgoDatos: 0 cupos ocupados\n",
      "ANÁLISIS CON DEEP LEARNING: 0 cupos ocupados\n",
      "INFORMACIÓN, SEGURIDAD Y PRIVA: 0 cupos ocupados\n",
      "SistemasIntensvosDatos: 0 cupos ocupados\n",
      "Modelado y diseño de datos: 0 cupos ocupados\n"
     ]
    }
   ],
   "source": [
    "# Selección del semestre actual (puedes cambiarlo entre 1 o 2)\n",
    "semestre_actual = 2\n",
    "\n",
    "# Obtener materias disponibles en el semestre actual\n",
    "materias_fundamentacion, materias_profundizacion = obtener_materias_semestre(semestre_actual)\n",
    "\n",
    "# Crear un problema de minimización\n",
    "problema = pl.LpProblem(\"Minimizar_cupos_materias\", pl.LpMinimize)\n",
    "\n",
    "# Variables de decisión: x_ij = 1 si el estudiante i se inscribe en la materia j, 0 en caso contrario\n",
    "x = pl.LpVariable.dicts(\"inscripcion\", (estudiantes, materias_fundamentacion + materias_profundizacion), 0, 1, pl.LpBinary)\n",
    "\n",
    "# Función objetivo: minimizar el número total de cupos\n",
    "problema += pl.lpSum(x[est][mat] for est in estudiantes for mat in materias_fundamentacion + materias_profundizacion)\n",
    "\n",
    "# Restricciones de capacidad de cupos (máximo 30 estudiantes por materia)\n",
    "for mat in materias_fundamentacion + materias_profundizacion:\n",
    "    problema += pl.lpSum(x[est][mat] for est in estudiantes) <= max_cupos\n",
    "\n",
    "# Restricción: cada estudiante debe inscribirse en exactamente 2 materias por semestre\n",
    "for est in estudiantes:\n",
    "    if rd.random() > 0.5:\n",
    "        problema += pl.lpSum(x[est][mat] for mat in materias_fundamentacion + materias_profundizacion) == 1\n",
    "    else:\n",
    "        problema += pl.lpSum(x[est][mat] for mat in materias_fundamentacion + materias_profundizacion) == 2\n",
    "\n",
    "# Restricción: los estudiantes no pueden inscribirse en materias que ya han cursado\n",
    "for est in estudiantes:\n",
    "    for mat in materias_vistas[est]:\n",
    "        if mat in materias_fundamentacion + materias_profundizacion:\n",
    "            problema += x[est][mat] == 0\n",
    "\n",
    "# Restricción: cada estudiante puede ver un máximo de 2 materias de fundamentación y 4 de profundización,\n",
    "# teniendo en cuenta cuántas ya ha cursado\n",
    "for est in estudiantes:\n",
    "    max_fundamentacion_restante = max_materias_fundamentacion - materias_cursadas[est]['Fundamentación']\n",
    "    max_profundizacion_restante = max_materias_profundizacion - materias_cursadas[est]['Profundización']\n",
    "    \n",
    "    # Asegurarse de que no excedan el número de materias que les faltan\n",
    "    problema += pl.lpSum(x[est][mat] for mat in materias_fundamentacion) <= max_fundamentacion_restante\n",
    "    problema += pl.lpSum(x[est][mat] for mat in materias_profundizacion) <= max_profundizacion_restante\n",
    "\n",
    "# Resolver el problema\n",
    "problema.solve()\n",
    "\n",
    "#Mostrar los resultados\n",
    "#for est in estudiantes:\n",
    "#    print(f\"Estudiante {est}:\")\n",
    "#    for mat in materias_fundamentacion + materias_profundizacion:\n",
    "#        if x[est][mat].value() == 1:\n",
    "#            print(f\"  Se inscribe en {mat}\")\n",
    "            \n",
    "\n",
    "# Diccionario para contar el número de cupos ocupados por materia\n",
    "cupos_por_materia = {mat: 0 for mat in materias_fundamentacion + materias_profundizacion}\n",
    "\n",
    "# Recorrer las variables de decisión para contar cuántos estudiantes se inscriben en cada materia\n",
    "for est in estudiantes:\n",
    "    for mat in materias_fundamentacion + materias_profundizacion:\n",
    "        if x[est][mat].value() == 1:  # Si el estudiante está inscrito en la materia\n",
    "            cupos_por_materia[mat] += 1\n",
    "\n",
    "# Mostrar el número de cupos ocupados por materia\n",
    "print(\"Cupos ocupados por materia:\")\n",
    "for mat, cupos in cupos_por_materia.items():\n",
    "    print(f\"{mat}: {cupos} cupos ocupados\")"
   ]
  },
  {
   "cell_type": "code",
   "execution_count": 27,
   "metadata": {},
   "outputs": [
    {
     "name": "stdout",
     "output_type": "stream",
     "text": [
      "Cupos ocupados por tipo de materia:\n",
      "Fundamentación: 0 cupos ocupados\n",
      "Profundización: 0 cupos ocupados\n"
     ]
    }
   ],
   "source": [
    "cupos_por_tipo = {\n",
    "    'Fundamentación': 0,\n",
    "    'Profundización': 0\n",
    "}\n",
    "\n",
    "for est in estudiantes:\n",
    "    for mat in materias_fundamentacion:\n",
    "        if x[est][mat].value() == 1: \n",
    "            materias_vistas[est].append(mat)\n",
    "            materias_cursadas[est]['Fundamentación'] += 1\n",
    "            cupos_por_tipo['Fundamentación'] += 1\n",
    "            \n",
    "    for mat in materias_profundizacion:\n",
    "        if x[est][mat].value() == 1:  \n",
    "            materias_vistas[est].append(mat)\n",
    "            materias_cursadas[est]['Profundización'] += 1\n",
    "            cupos_por_tipo['Profundización'] += 1\n",
    "\n",
    "print(\"Cupos ocupados por tipo de materia:\")\n",
    "for tipo, cupos in cupos_por_tipo.items():\n",
    "    print(f\"{tipo}: {cupos} cupos ocupados\")"
   ]
  },
  {
   "cell_type": "code",
   "execution_count": 28,
   "metadata": {},
   "outputs": [
    {
     "name": "stdout",
     "output_type": "stream",
     "text": [
      "[201122746, 201326890, 201416687, 201728857, 201922462, 202322993, 200611694, 200726240, 201911910, 201912514, 201914936, 202012119, 202012128, 1, 3, 4, 5, 7, 8, 9, 10, 11, 12, 13, 14, 15, 17]\n"
     ]
    }
   ],
   "source": [
    "# Crear una lista para almacenar los datos\n",
    "data = []\n",
    "\n",
    "# Unir los diccionarios en una lista de diccionarios\n",
    "for estudiante, materias in materias_vistas_dict.items():\n",
    "    # Asegúrate de que el estudiante está en el segundo diccionario\n",
    "    if estudiante in materias_vistas_validez:\n",
    "        data.append({\n",
    "            'Código est': estudiante,\n",
    "            'Fundamentación': materias_vistas_validez[estudiante]['Fundamentación'],\n",
    "            'Profundización': materias_vistas_validez[estudiante]['Profundización'],\n",
    "            'Materias Cursadas': materias\n",
    "        })\n",
    "\n",
    "# Materias a considerar\n",
    "materias_a_ver = ['ORG. CENTRADAS EN DATOS', 'SOLUCIONES DE DATOS EN LA NUBE']\n",
    "\n",
    "# Lista para almacenar los estudiantes habilitados\n",
    "estudiantes_habilitados = []\n",
    "\n",
    "# Iterar sobre la lista de datos\n",
    "for row in data:\n",
    "    estudiante = row['Código est']\n",
    "    num_fundamentacion = row['Fundamentación']\n",
    "    num_profundizacion = row['Profundización']\n",
    "    materias_vistas = row['Materias Cursadas']\n",
    "    \n",
    "    # Verificar las condiciones\n",
    "    if (num_fundamentacion < 2 and\n",
    "        not any(materia in materias_vistas for materia in materias_a_ver)):\n",
    "        estudiantes_habilitados.append(estudiante)\n",
    "\n",
    "# Mostrar la lista de estudiantes habilitados\n",
    "print(estudiantes_habilitados)"
   ]
  }
 ],
 "metadata": {
  "kernelspec": {
   "display_name": "Python 3",
   "language": "python",
   "name": "python3"
  },
  "language_info": {
   "codemirror_mode": {
    "name": "ipython",
    "version": 3
   },
   "file_extension": ".py",
   "mimetype": "text/x-python",
   "name": "python",
   "nbconvert_exporter": "python",
   "pygments_lexer": "ipython3",
   "version": "undefined.undefined.undefined"
  }
 },
 "nbformat": 4,
 "nbformat_minor": 2
}
